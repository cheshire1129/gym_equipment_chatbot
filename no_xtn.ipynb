{
  "nbformat": 4,
  "nbformat_minor": 0,
  "metadata": {
    "colab": {
      "provenance": [],
      "gpuType": "T4"
    },
    "kernelspec": {
      "name": "python3",
      "display_name": "Python 3"
    },
    "language_info": {
      "name": "python"
    },
    "accelerator": "GPU"
  },
  "cells": [
    {
      "cell_type": "code",
      "source": [
        "import os\n",
        "import shutil\n",
        "from sklearn.model_selection import train_test_split\n",
        "\n",
        "# full dataset 디렉토리\n",
        "dataset_dir = r'/content/drive/MyDrive/Gym_Equips'"
      ],
      "metadata": {
        "id": "04foC3SI40W_"
      },
      "execution_count": 1,
      "outputs": []
    },
    {
      "cell_type": "code",
      "source": [
        "from PIL import Image\n",
        "\n",
        "for root, dirs, files in os.walk(dataset_dir):\n",
        "    for file in files:\n",
        "        file_path = os.path.join(root, file)\n",
        "        try:\n",
        "            img = Image.open(file_path)\n",
        "            img.verify()  # 이미지 파일이 손상되었는지 검증\n",
        "        except (IOError, SyntaxError) as e:\n",
        "            print(f\"Deleting corrupted file: {file_path}\")\n",
        "            os.remove(file_path)"
      ],
      "metadata": {
        "id": "GxysouQepuXd"
      },
      "execution_count": 2,
      "outputs": []
    },
    {
      "cell_type": "code",
      "source": [
        "for category in os.listdir(dataset_dir):\n",
        "    if category == '.DS_Store':  # .DS_Store 무시\n",
        "        print(f\"Skipping .DS_Store file in: {dataset_dir}\")\n",
        "        continue\n",
        "\n",
        "    category_path = os.path.join(dataset_dir, category)\n",
        "\n",
        "    # 디렉토리인지 확인\n",
        "    if not os.path.isdir(category_path):\n",
        "        print(f\"Skipping non-directory item: {category_path}\")\n",
        "        continue\n",
        "\n",
        "    for file in os.listdir(category_path):\n",
        "        file_path = os.path.join(category_path, file)\n",
        "\n",
        "        # 지원되지 않는 파일 형식 확인 및 삭제\n",
        "        if not (file.lower().endswith(('.jpg', '.jpeg', '.png', '.gif', '.bmp'))):\n",
        "            print(f\"Deleting unsupported file: {file_path}\")\n",
        "            os.remove(file_path)\n"
      ],
      "metadata": {
        "id": "0RgbX_YlpX8f"
      },
      "execution_count": 3,
      "outputs": []
    },
    {
      "cell_type": "code",
      "source": [
        "# train 디렉토리와 validation 디렉토리와 test 디렉토리 생성\n",
        "train_dir = './dataset/training'\n",
        "val_dir = './dataset/validation'\n",
        "test_dir = './dataset/test'"
      ],
      "metadata": {
        "id": "HEwS_JG_cehc"
      },
      "execution_count": 4,
      "outputs": []
    },
    {
      "cell_type": "code",
      "source": [
        "os.makedirs(train_dir, exist_ok=True)\n",
        "os.makedirs(val_dir, exist_ok=True)\n",
        "os.makedirs(test_dir, exist_ok=True)\n",
        "print(\"새로운 dataset 디렉토리를 생성하였습니다.\")\n",
        "print()"
      ],
      "metadata": {
        "colab": {
          "base_uri": "https://localhost:8080/"
        },
        "id": "grWbmeXOeP1z",
        "outputId": "e8e3bef7-e51b-4d2f-9035-3ca01d6836f8"
      },
      "execution_count": 5,
      "outputs": [
        {
          "output_type": "stream",
          "name": "stdout",
          "text": [
            "새로운 dataset 디렉토리를 생성하였습니다.\n",
            "\n"
          ]
        }
      ]
    },
    {
      "cell_type": "code",
      "source": [
        "categories = ['Dumbells', 'Elliptical Machine', 'Recumbent Bike', 'Smith Machine', 'leg press', 'leg curls', 'lat pulldowns', 'kettle bells', 'bench press']\n",
        "category_num = len(categories)"
      ],
      "metadata": {
        "id": "ubPswfnZeS4f"
      },
      "execution_count": 6,
      "outputs": []
    },
    {
      "cell_type": "code",
      "source": [
        "import pandas as pd\n",
        "\n",
        "import os\n",
        "import shutil\n",
        "from sklearn.model_selection import train_test_split\n",
        "\n",
        "# 해당 셀은 full dataset(전체 데이터)을 data를 category별 6:2:2로 split한다.\n",
        "# split된 data는 각각 training/해당category, valivation/해당category, test/해당category 에 저장된다.\n",
        "\n",
        "# full dataset 디렉토리\n",
        "dataset_dir = '/content/drive/MyDrive/Gym_Equips'\n",
        "\n",
        "if(os.path.isdir('./dataset')):\n",
        "    print(f\"dataset 디렉토리가 이미 존재하여 새로운 dataset 디렉토리를 만들기 전, 삭제하였습니다. \")\n",
        "    shutil.rmtree('./dataset')\n",
        "\n",
        "# train 디렉토리와 validation 디렉토리와 test 디렉토리 생성\n",
        "train_dir = './dataset/training'\n",
        "val_dir = './dataset/validation'\n",
        "test_dir = './dataset/test'\n",
        "\n",
        "os.makedirs(train_dir, exist_ok=True)\n",
        "os.makedirs(val_dir, exist_ok=True)\n",
        "os.makedirs(test_dir, exist_ok=True)\n",
        "print(\"새로운 dataset 디렉토리를 생성하였습니다.\")\n",
        "print()\n",
        "\n",
        "categories = ['Dumbells', 'Elliptical Machine', 'Recumbent Bike', 'Smith Machine', 'leg press', 'leg curls', 'lat pulldowns', 'kettle bells', 'bench press']\n",
        "category_num = len(categories)"
      ],
      "metadata": {
        "colab": {
          "base_uri": "https://localhost:8080/"
        },
        "id": "5XgnJDvtnGkQ",
        "outputId": "e7e50fb4-f0cc-46e4-8552-0d659bbc0fd2"
      },
      "execution_count": 7,
      "outputs": [
        {
          "output_type": "stream",
          "name": "stdout",
          "text": [
            "dataset 디렉토리가 이미 존재하여 새로운 dataset 디렉토리를 만들기 전, 삭제하였습니다. \n",
            "새로운 dataset 디렉토리를 생성하였습니다.\n",
            "\n"
          ]
        }
      ]
    },
    {
      "cell_type": "code",
      "source": [
        "# Category별로 복사\n",
        "for category in categories :\n",
        "    os.makedirs(os.path.join(train_dir, category), exist_ok=True)\n",
        "    os.makedirs(os.path.join(val_dir, category), exist_ok=True)\n",
        "    os.makedirs(os.path.join(test_dir, category), exist_ok=True)\n",
        "\n",
        "    category_path = os.path.join(dataset_dir, category)\n",
        "\n",
        "    # Check if category path exists\n",
        "    if not os.path.exists(category_path):\n",
        "        print(f\"Path {category_path} does not exist \")\n",
        "\n",
        "    # Keep all files in category directory by list files_in_category\n",
        "    files_in_category = [file for file in os.listdir(category_path) if os.path.join(category_path, file)]\n",
        "\n",
        "    # split files by 6:2:2\n",
        "    train_files, val_files = train_test_split(files_in_category, test_size=0.4, random_state=42)\n",
        "    val_files, test_files = train_test_split(val_files, test_size=0.5, random_state=42)\n",
        "\n",
        "\n",
        "    # Copy train files into ./dataset/training and ./dataset/validation and ./dataset/test\n",
        "    for file in train_files:\n",
        "        shutil.copy(os.path.join(category_path, file), os.path.join(train_dir, category, file))\n",
        "    print(f\"{category_path}에서 {os.path.join(train_dir, category)}로 파일 {len(train_files)}개가 복사되었습니다.\")\n",
        "\n",
        "    for file in val_files:\n",
        "        shutil.copy(os.path.join(category_path, file), os.path.join(val_dir, category, file))\n",
        "    print(f\"{category_path}에서 {os.path.join(val_dir, category)}로 파일 {len(val_files)}개가 복사되었습니다.\")\n",
        "\n",
        "    for file in val_files:\n",
        "        shutil.copy(os.path.join(category_path, file), os.path.join(test_dir, category, file))\n",
        "    print(f\"{category_path}에서 {os.path.join(test_dir, category)}로 파일 {len(test_files)}개가 복사되었습니다.\")\n",
        "    print()\n",
        "\n",
        "\n",
        "# category 확인\n",
        "print(f\"category의 개수는 {category_num}개이고, \")\n",
        "print(\"category는 다음과 같습니다\")\n",
        "for cat in categories:\n",
        "    print(f\"{cat} \")\n",
        "print()"
      ],
      "metadata": {
        "colab": {
          "base_uri": "https://localhost:8080/"
        },
        "id": "KjT53rn-nkh5",
        "outputId": "85de5b82-18f1-4378-a93e-341a454f1e01"
      },
      "execution_count": 8,
      "outputs": [
        {
          "output_type": "stream",
          "name": "stdout",
          "text": [
            "/content/drive/MyDrive/Gym_Equips/Dumbells에서 ./dataset/training/Dumbells로 파일 573개가 복사되었습니다.\n",
            "/content/drive/MyDrive/Gym_Equips/Dumbells에서 ./dataset/validation/Dumbells로 파일 191개가 복사되었습니다.\n",
            "/content/drive/MyDrive/Gym_Equips/Dumbells에서 ./dataset/test/Dumbells로 파일 192개가 복사되었습니다.\n",
            "\n",
            "/content/drive/MyDrive/Gym_Equips/Elliptical Machine에서 ./dataset/training/Elliptical Machine로 파일 211개가 복사되었습니다.\n",
            "/content/drive/MyDrive/Gym_Equips/Elliptical Machine에서 ./dataset/validation/Elliptical Machine로 파일 71개가 복사되었습니다.\n",
            "/content/drive/MyDrive/Gym_Equips/Elliptical Machine에서 ./dataset/test/Elliptical Machine로 파일 71개가 복사되었습니다.\n",
            "\n",
            "/content/drive/MyDrive/Gym_Equips/Recumbent Bike에서 ./dataset/training/Recumbent Bike로 파일 100개가 복사되었습니다.\n",
            "/content/drive/MyDrive/Gym_Equips/Recumbent Bike에서 ./dataset/validation/Recumbent Bike로 파일 33개가 복사되었습니다.\n",
            "/content/drive/MyDrive/Gym_Equips/Recumbent Bike에서 ./dataset/test/Recumbent Bike로 파일 34개가 복사되었습니다.\n",
            "\n",
            "/content/drive/MyDrive/Gym_Equips/Smith Machine에서 ./dataset/training/Smith Machine로 파일 146개가 복사되었습니다.\n",
            "/content/drive/MyDrive/Gym_Equips/Smith Machine에서 ./dataset/validation/Smith Machine로 파일 49개가 복사되었습니다.\n",
            "/content/drive/MyDrive/Gym_Equips/Smith Machine에서 ./dataset/test/Smith Machine로 파일 49개가 복사되었습니다.\n",
            "\n",
            "/content/drive/MyDrive/Gym_Equips/leg press에서 ./dataset/training/leg press로 파일 90개가 복사되었습니다.\n",
            "/content/drive/MyDrive/Gym_Equips/leg press에서 ./dataset/validation/leg press로 파일 30개가 복사되었습니다.\n",
            "/content/drive/MyDrive/Gym_Equips/leg press에서 ./dataset/test/leg press로 파일 30개가 복사되었습니다.\n",
            "\n",
            "/content/drive/MyDrive/Gym_Equips/leg curls에서 ./dataset/training/leg curls로 파일 94개가 복사되었습니다.\n",
            "/content/drive/MyDrive/Gym_Equips/leg curls에서 ./dataset/validation/leg curls로 파일 32개가 복사되었습니다.\n",
            "/content/drive/MyDrive/Gym_Equips/leg curls에서 ./dataset/test/leg curls로 파일 32개가 복사되었습니다.\n",
            "\n",
            "/content/drive/MyDrive/Gym_Equips/lat pulldowns에서 ./dataset/training/lat pulldowns로 파일 87개가 복사되었습니다.\n",
            "/content/drive/MyDrive/Gym_Equips/lat pulldowns에서 ./dataset/validation/lat pulldowns로 파일 29개가 복사되었습니다.\n",
            "/content/drive/MyDrive/Gym_Equips/lat pulldowns에서 ./dataset/test/lat pulldowns로 파일 30개가 복사되었습니다.\n",
            "\n",
            "/content/drive/MyDrive/Gym_Equips/kettle bells에서 ./dataset/training/kettle bells로 파일 89개가 복사되었습니다.\n",
            "/content/drive/MyDrive/Gym_Equips/kettle bells에서 ./dataset/validation/kettle bells로 파일 30개가 복사되었습니다.\n",
            "/content/drive/MyDrive/Gym_Equips/kettle bells에서 ./dataset/test/kettle bells로 파일 30개가 복사되었습니다.\n",
            "\n",
            "/content/drive/MyDrive/Gym_Equips/bench press에서 ./dataset/training/bench press로 파일 60개가 복사되었습니다.\n",
            "/content/drive/MyDrive/Gym_Equips/bench press에서 ./dataset/validation/bench press로 파일 20개가 복사되었습니다.\n",
            "/content/drive/MyDrive/Gym_Equips/bench press에서 ./dataset/test/bench press로 파일 20개가 복사되었습니다.\n",
            "\n",
            "category의 개수는 9개이고, \n",
            "category는 다음과 같습니다\n",
            "Dumbells \n",
            "Elliptical Machine \n",
            "Recumbent Bike \n",
            "Smith Machine \n",
            "leg press \n",
            "leg curls \n",
            "lat pulldowns \n",
            "kettle bells \n",
            "bench press \n",
            "\n"
          ]
        }
      ]
    },
    {
      "cell_type": "code",
      "source": [
        "import tensorflow as tf\n",
        "\n",
        "# Image 처리용\n",
        "#from tensorflow.keras.processing.image import ImageDataGenerator\n",
        "from tensorflow.keras.utils import image_dataset_from_directory\n",
        "\n",
        "# Model 생성용\n",
        "from tensorflow.keras.models import Sequential\n",
        "from tensorflow.keras.layers import Conv2D, MaxPooling2D, Flatten, Dense, Dropout\n",
        "\n",
        "# Model layer용\n",
        "from tensorflow.keras import layers\n",
        "\n",
        "# Optimizer용\n",
        "from tensorflow.keras.optimizers import Adam\n",
        "\n",
        "# Preprocessing\n",
        "\n",
        "# train_dir, val_dir path\n",
        "train_dir = './dataset/training'\n",
        "val_dir = './dataset/validation'\n",
        "\n",
        "\n",
        "# Image 처리\n",
        "# train_dir/어떤category, val_dir/어떤category 안에 있는 이미지들을 해당 category로 labeling 해줌\n",
        "# model.fit에서 사용되는 batch_size로 배치 크기 설정\n",
        "\n",
        "train_dataset = image_dataset_from_directory(\n",
        "    directory = train_dir,\n",
        "    image_size = (299, 299),\n",
        "    batch_size = 32,\n",
        "    label_mode='categorical'\n",
        ")\n",
        "val_dataset = image_dataset_from_directory(\n",
        "    directory = val_dir,\n",
        "    image_size = (299, 299),\n",
        "    label_mode='categorical',\n",
        "    batch_size = 32,\n",
        ")\n",
        "\n",
        "for images, labels in train_dataset.take(1):  # Take one batch\n",
        "    print(\"Image batch shape:\", images.shape)\n",
        "    print(\"Label batch shape:\", labels.shape)\n",
        "    print(\"Labels:\", labels)"
      ],
      "metadata": {
        "colab": {
          "base_uri": "https://localhost:8080/"
        },
        "id": "eoDRWVEPoR3o",
        "outputId": "933f32db-3afb-4206-cb99-cc7dde9397e2"
      },
      "execution_count": 9,
      "outputs": [
        {
          "output_type": "stream",
          "name": "stdout",
          "text": [
            "Found 1450 files belonging to 9 classes.\n",
            "Found 485 files belonging to 9 classes.\n",
            "Image batch shape: (32, 299, 299, 3)\n",
            "Label batch shape: (32, 9)\n",
            "Labels: tf.Tensor(\n",
            "[[1. 0. 0. 0. 0. 0. 0. 0. 0.]\n",
            " [0. 0. 0. 0. 0. 0. 0. 1. 0.]\n",
            " [1. 0. 0. 0. 0. 0. 0. 0. 0.]\n",
            " [1. 0. 0. 0. 0. 0. 0. 0. 0.]\n",
            " [0. 0. 0. 1. 0. 0. 0. 0. 0.]\n",
            " [0. 1. 0. 0. 0. 0. 0. 0. 0.]\n",
            " [1. 0. 0. 0. 0. 0. 0. 0. 0.]\n",
            " [0. 1. 0. 0. 0. 0. 0. 0. 0.]\n",
            " [0. 0. 0. 0. 0. 1. 0. 0. 0.]\n",
            " [0. 0. 0. 0. 0. 0. 0. 1. 0.]\n",
            " [0. 0. 0. 0. 0. 0. 1. 0. 0.]\n",
            " [0. 0. 0. 0. 0. 0. 0. 1. 0.]\n",
            " [0. 0. 0. 0. 0. 0. 1. 0. 0.]\n",
            " [0. 0. 0. 0. 0. 1. 0. 0. 0.]\n",
            " [0. 1. 0. 0. 0. 0. 0. 0. 0.]\n",
            " [0. 1. 0. 0. 0. 0. 0. 0. 0.]\n",
            " [0. 0. 0. 0. 0. 1. 0. 0. 0.]\n",
            " [0. 0. 0. 0. 0. 0. 1. 0. 0.]\n",
            " [0. 0. 0. 0. 1. 0. 0. 0. 0.]\n",
            " [1. 0. 0. 0. 0. 0. 0. 0. 0.]\n",
            " [1. 0. 0. 0. 0. 0. 0. 0. 0.]\n",
            " [0. 0. 0. 0. 0. 0. 0. 1. 0.]\n",
            " [0. 1. 0. 0. 0. 0. 0. 0. 0.]\n",
            " [1. 0. 0. 0. 0. 0. 0. 0. 0.]\n",
            " [0. 0. 1. 0. 0. 0. 0. 0. 0.]\n",
            " [0. 1. 0. 0. 0. 0. 0. 0. 0.]\n",
            " [1. 0. 0. 0. 0. 0. 0. 0. 0.]\n",
            " [1. 0. 0. 0. 0. 0. 0. 0. 0.]\n",
            " [1. 0. 0. 0. 0. 0. 0. 0. 0.]\n",
            " [0. 0. 0. 0. 0. 0. 0. 1. 0.]\n",
            " [0. 1. 0. 0. 0. 0. 0. 0. 0.]\n",
            " [0. 0. 0. 0. 0. 0. 1. 0. 0.]], shape=(32, 9), dtype=float32)\n"
          ]
        }
      ]
    },
    {
      "cell_type": "code",
      "source": [
        "# Augmentation\n",
        "data_augmentation = tf.keras.Sequential([\n",
        "    layers.Rescaling(1.0 / 255, input_shape=(299,299,3)),       # RGB normalize\n",
        "    layers.RandomFlip(\"horizontal\"),   # 좌우 반전\n",
        "    layers.RandomRotation(0.1),        # 회전\n",
        "    layers.RandomZoom(0.1),            # 확대, 축소\n",
        "    layers.RandomTranslation(0.1, 0.1) # 좌우 이동\n",
        "])\n",
        "\n",
        "# Define Model\n",
        "\n",
        "# [최종 코드 제출 전 검토]모델 생성 방법 주석 처리\n",
        "# CNN으로 3 X 3 filter 32개 사용\n",
        "# MaxPooling\n",
        "# FC Layer (hidden units : 128)\n",
        "# FC Layer (hidden units : category 개수)\n",
        "\n",
        "from keras import layers\n",
        "from keras.models import Sequential\n",
        "from keras.layers import Input\n",
        "\n",
        "model = Sequential([\n",
        "    Input(shape=(299, 299, 3)),  # 입력 크기 정의\n",
        "    data_augmentation,\n",
        "    layers.Conv2D(64, (3, 3), activation='relu'),\n",
        "    layers.MaxPooling2D(pool_size=(2, 2)),\n",
        "    layers.Flatten(),\n",
        "    layers.Dense(128, activation='relu'),\n",
        "    layers.Dense(category_num, activation='softmax')\n",
        "])\n",
        "\n",
        "\n",
        "# Compile Model\n",
        "model.compile(optimizer='adam',\n",
        "              loss='categorical_crossentropy',\n",
        "              metrics=['accuracy']\n",
        "             )\n",
        "\n",
        "# Train\n",
        "history = model.fit(train_dataset,\n",
        "         validation_data = val_dataset,\n",
        "         epochs=50,\n",
        "         verbose=1)\n",
        "\n",
        "model.save('my_model.keras')"
      ],
      "metadata": {
        "colab": {
          "base_uri": "https://localhost:8080/"
        },
        "id": "71fwnF3VoaQY",
        "outputId": "2c9c518b-85fe-4b05-cf4b-5234ee215c6d"
      },
      "execution_count": 10,
      "outputs": [
        {
          "output_type": "stream",
          "name": "stderr",
          "text": [
            "/usr/local/lib/python3.10/dist-packages/keras/src/layers/preprocessing/tf_data_layer.py:19: UserWarning: Do not pass an `input_shape`/`input_dim` argument to a layer. When using Sequential models, prefer using an `Input(shape)` object as the first layer in the model instead.\n",
            "  super().__init__(**kwargs)\n"
          ]
        },
        {
          "output_type": "stream",
          "name": "stdout",
          "text": [
            "Epoch 1/50\n",
            "\u001b[1m46/46\u001b[0m \u001b[32m━━━━━━━━━━━━━━━━━━━━\u001b[0m\u001b[37m\u001b[0m \u001b[1m27s\u001b[0m 453ms/step - accuracy: 0.1962 - loss: 56.0483 - val_accuracy: 0.4495 - val_loss: 2.0143\n",
            "Epoch 2/50\n",
            "\u001b[1m46/46\u001b[0m \u001b[32m━━━━━━━━━━━━━━━━━━━━\u001b[0m\u001b[37m\u001b[0m \u001b[1m35s\u001b[0m 418ms/step - accuracy: 0.4369 - loss: 1.9527 - val_accuracy: 0.4722 - val_loss: 1.8577\n",
            "Epoch 3/50\n",
            "\u001b[1m46/46\u001b[0m \u001b[32m━━━━━━━━━━━━━━━━━━━━\u001b[0m\u001b[37m\u001b[0m \u001b[1m22s\u001b[0m 454ms/step - accuracy: 0.5233 - loss: 1.5913 - val_accuracy: 0.4082 - val_loss: 1.8790\n",
            "Epoch 4/50\n",
            "\u001b[1m46/46\u001b[0m \u001b[32m━━━━━━━━━━━━━━━━━━━━\u001b[0m\u001b[37m\u001b[0m \u001b[1m20s\u001b[0m 430ms/step - accuracy: 0.5046 - loss: 1.5136 - val_accuracy: 0.5278 - val_loss: 1.6158\n",
            "Epoch 5/50\n",
            "\u001b[1m46/46\u001b[0m \u001b[32m━━━━━━━━━━━━━━━━━━━━\u001b[0m\u001b[37m\u001b[0m \u001b[1m20s\u001b[0m 417ms/step - accuracy: 0.5524 - loss: 1.4733 - val_accuracy: 0.4887 - val_loss: 1.7646\n",
            "Epoch 6/50\n",
            "\u001b[1m46/46\u001b[0m \u001b[32m━━━━━━━━━━━━━━━━━━━━\u001b[0m\u001b[37m\u001b[0m \u001b[1m25s\u001b[0m 545ms/step - accuracy: 0.6004 - loss: 1.3055 - val_accuracy: 0.5196 - val_loss: 1.6076\n",
            "Epoch 7/50\n",
            "\u001b[1m46/46\u001b[0m \u001b[32m━━━━━━━━━━━━━━━━━━━━\u001b[0m\u001b[37m\u001b[0m \u001b[1m42s\u001b[0m 558ms/step - accuracy: 0.5724 - loss: 1.3069 - val_accuracy: 0.6371 - val_loss: 1.2815\n",
            "Epoch 8/50\n",
            "\u001b[1m46/46\u001b[0m \u001b[32m━━━━━━━━━━━━━━━━━━━━\u001b[0m\u001b[37m\u001b[0m \u001b[1m19s\u001b[0m 404ms/step - accuracy: 0.6194 - loss: 1.2245 - val_accuracy: 0.5649 - val_loss: 1.4768\n",
            "Epoch 9/50\n",
            "\u001b[1m46/46\u001b[0m \u001b[32m━━━━━━━━━━━━━━━━━━━━\u001b[0m\u001b[37m\u001b[0m \u001b[1m20s\u001b[0m 433ms/step - accuracy: 0.6576 - loss: 1.1895 - val_accuracy: 0.5918 - val_loss: 1.3650\n",
            "Epoch 10/50\n",
            "\u001b[1m46/46\u001b[0m \u001b[32m━━━━━━━━━━━━━━━━━━━━\u001b[0m\u001b[37m\u001b[0m \u001b[1m19s\u001b[0m 419ms/step - accuracy: 0.6665 - loss: 1.1300 - val_accuracy: 0.5485 - val_loss: 1.5290\n",
            "Epoch 11/50\n",
            "\u001b[1m46/46\u001b[0m \u001b[32m━━━━━━━━━━━━━━━━━━━━\u001b[0m\u001b[37m\u001b[0m \u001b[1m19s\u001b[0m 398ms/step - accuracy: 0.6407 - loss: 1.1442 - val_accuracy: 0.5979 - val_loss: 1.4012\n",
            "Epoch 12/50\n",
            "\u001b[1m46/46\u001b[0m \u001b[32m━━━━━━━━━━━━━━━━━━━━\u001b[0m\u001b[37m\u001b[0m \u001b[1m19s\u001b[0m 404ms/step - accuracy: 0.6565 - loss: 1.0776 - val_accuracy: 0.6000 - val_loss: 1.3465\n",
            "Epoch 13/50\n",
            "\u001b[1m46/46\u001b[0m \u001b[32m━━━━━━━━━━━━━━━━━━━━\u001b[0m\u001b[37m\u001b[0m \u001b[1m21s\u001b[0m 451ms/step - accuracy: 0.6366 - loss: 1.1878 - val_accuracy: 0.5464 - val_loss: 1.5821\n",
            "Epoch 14/50\n",
            "\u001b[1m46/46\u001b[0m \u001b[32m━━━━━━━━━━━━━━━━━━━━\u001b[0m\u001b[37m\u001b[0m \u001b[1m40s\u001b[0m 421ms/step - accuracy: 0.6675 - loss: 1.0319 - val_accuracy: 0.5732 - val_loss: 1.5391\n",
            "Epoch 15/50\n",
            "\u001b[1m46/46\u001b[0m \u001b[32m━━━━━━━━━━━━━━━━━━━━\u001b[0m\u001b[37m\u001b[0m \u001b[1m19s\u001b[0m 399ms/step - accuracy: 0.6882 - loss: 1.0027 - val_accuracy: 0.6186 - val_loss: 1.3729\n",
            "Epoch 16/50\n",
            "\u001b[1m46/46\u001b[0m \u001b[32m━━━━━━━━━━━━━━━━━━━━\u001b[0m\u001b[37m\u001b[0m \u001b[1m22s\u001b[0m 429ms/step - accuracy: 0.6882 - loss: 1.0266 - val_accuracy: 0.6165 - val_loss: 1.3301\n",
            "Epoch 17/50\n",
            "\u001b[1m46/46\u001b[0m \u001b[32m━━━━━━━━━━━━━━━━━━━━\u001b[0m\u001b[37m\u001b[0m \u001b[1m20s\u001b[0m 423ms/step - accuracy: 0.7014 - loss: 0.9635 - val_accuracy: 0.5711 - val_loss: 1.5289\n",
            "Epoch 18/50\n",
            "\u001b[1m46/46\u001b[0m \u001b[32m━━━━━━━━━━━━━━━━━━━━\u001b[0m\u001b[37m\u001b[0m \u001b[1m19s\u001b[0m 409ms/step - accuracy: 0.7075 - loss: 0.9281 - val_accuracy: 0.6268 - val_loss: 1.3212\n",
            "Epoch 19/50\n",
            "\u001b[1m46/46\u001b[0m \u001b[32m━━━━━━━━━━━━━━━━━━━━\u001b[0m\u001b[37m\u001b[0m \u001b[1m22s\u001b[0m 428ms/step - accuracy: 0.7156 - loss: 0.9115 - val_accuracy: 0.6598 - val_loss: 1.1910\n",
            "Epoch 20/50\n",
            "\u001b[1m46/46\u001b[0m \u001b[32m━━━━━━━━━━━━━━━━━━━━\u001b[0m\u001b[37m\u001b[0m \u001b[1m20s\u001b[0m 422ms/step - accuracy: 0.7077 - loss: 0.9168 - val_accuracy: 0.6206 - val_loss: 1.4304\n",
            "Epoch 21/50\n",
            "\u001b[1m46/46\u001b[0m \u001b[32m━━━━━━━━━━━━━━━━━━━━\u001b[0m\u001b[37m\u001b[0m \u001b[1m20s\u001b[0m 435ms/step - accuracy: 0.6915 - loss: 0.9688 - val_accuracy: 0.6619 - val_loss: 1.1438\n",
            "Epoch 22/50\n",
            "\u001b[1m46/46\u001b[0m \u001b[32m━━━━━━━━━━━━━━━━━━━━\u001b[0m\u001b[37m\u001b[0m \u001b[1m19s\u001b[0m 424ms/step - accuracy: 0.7261 - loss: 0.8915 - val_accuracy: 0.5546 - val_loss: 1.6108\n",
            "Epoch 23/50\n",
            "\u001b[1m46/46\u001b[0m \u001b[32m━━━━━━━━━━━━━━━━━━━━\u001b[0m\u001b[37m\u001b[0m \u001b[1m20s\u001b[0m 408ms/step - accuracy: 0.7111 - loss: 0.9330 - val_accuracy: 0.6041 - val_loss: 1.3135\n",
            "Epoch 24/50\n",
            "\u001b[1m46/46\u001b[0m \u001b[32m━━━━━━━━━━━━━━━━━━━━\u001b[0m\u001b[37m\u001b[0m \u001b[1m20s\u001b[0m 403ms/step - accuracy: 0.7320 - loss: 0.9070 - val_accuracy: 0.6041 - val_loss: 1.5058\n",
            "Epoch 25/50\n",
            "\u001b[1m46/46\u001b[0m \u001b[32m━━━━━━━━━━━━━━━━━━━━\u001b[0m\u001b[37m\u001b[0m \u001b[1m23s\u001b[0m 444ms/step - accuracy: 0.7267 - loss: 0.8913 - val_accuracy: 0.5794 - val_loss: 1.4439\n",
            "Epoch 26/50\n",
            "\u001b[1m46/46\u001b[0m \u001b[32m━━━━━━━━━━━━━━━━━━━━\u001b[0m\u001b[37m\u001b[0m \u001b[1m45s\u001b[0m 544ms/step - accuracy: 0.7214 - loss: 0.9070 - val_accuracy: 0.5464 - val_loss: 1.6707\n",
            "Epoch 27/50\n",
            "\u001b[1m46/46\u001b[0m \u001b[32m━━━━━━━━━━━━━━━━━━━━\u001b[0m\u001b[37m\u001b[0m \u001b[1m19s\u001b[0m 400ms/step - accuracy: 0.7351 - loss: 0.8858 - val_accuracy: 0.6289 - val_loss: 1.3830\n",
            "Epoch 28/50\n",
            "\u001b[1m46/46\u001b[0m \u001b[32m━━━━━━━━━━━━━━━━━━━━\u001b[0m\u001b[37m\u001b[0m \u001b[1m22s\u001b[0m 449ms/step - accuracy: 0.7528 - loss: 0.8231 - val_accuracy: 0.6082 - val_loss: 1.5573\n",
            "Epoch 29/50\n",
            "\u001b[1m46/46\u001b[0m \u001b[32m━━━━━━━━━━━━━━━━━━━━\u001b[0m\u001b[37m\u001b[0m \u001b[1m41s\u001b[0m 449ms/step - accuracy: 0.7279 - loss: 0.8564 - val_accuracy: 0.5423 - val_loss: 1.7292\n",
            "Epoch 30/50\n",
            "\u001b[1m46/46\u001b[0m \u001b[32m━━━━━━━━━━━━━━━━━━━━\u001b[0m\u001b[37m\u001b[0m \u001b[1m20s\u001b[0m 422ms/step - accuracy: 0.7672 - loss: 0.7621 - val_accuracy: 0.5691 - val_loss: 1.6621\n",
            "Epoch 31/50\n",
            "\u001b[1m46/46\u001b[0m \u001b[32m━━━━━━━━━━━━━━━━━━━━\u001b[0m\u001b[37m\u001b[0m \u001b[1m19s\u001b[0m 409ms/step - accuracy: 0.7535 - loss: 0.7882 - val_accuracy: 0.5753 - val_loss: 1.6912\n",
            "Epoch 32/50\n",
            "\u001b[1m46/46\u001b[0m \u001b[32m━━━━━━━━━━━━━━━━━━━━\u001b[0m\u001b[37m\u001b[0m \u001b[1m22s\u001b[0m 450ms/step - accuracy: 0.7548 - loss: 0.7505 - val_accuracy: 0.6041 - val_loss: 1.7245\n",
            "Epoch 33/50\n",
            "\u001b[1m46/46\u001b[0m \u001b[32m━━━━━━━━━━━━━━━━━━━━\u001b[0m\u001b[37m\u001b[0m \u001b[1m19s\u001b[0m 407ms/step - accuracy: 0.7688 - loss: 0.7834 - val_accuracy: 0.6000 - val_loss: 1.5512\n",
            "Epoch 34/50\n",
            "\u001b[1m46/46\u001b[0m \u001b[32m━━━━━━━━━━━━━━━━━━━━\u001b[0m\u001b[37m\u001b[0m \u001b[1m21s\u001b[0m 410ms/step - accuracy: 0.7686 - loss: 0.7670 - val_accuracy: 0.6041 - val_loss: 1.5844\n",
            "Epoch 35/50\n",
            "\u001b[1m46/46\u001b[0m \u001b[32m━━━━━━━━━━━━━━━━━━━━\u001b[0m\u001b[37m\u001b[0m \u001b[1m21s\u001b[0m 444ms/step - accuracy: 0.8101 - loss: 0.6689 - val_accuracy: 0.5526 - val_loss: 1.7143\n",
            "Epoch 36/50\n",
            "\u001b[1m46/46\u001b[0m \u001b[32m━━━━━━━━━━━━━━━━━━━━\u001b[0m\u001b[37m\u001b[0m \u001b[1m45s\u001b[0m 539ms/step - accuracy: 0.7856 - loss: 0.7062 - val_accuracy: 0.5959 - val_loss: 1.6220\n",
            "Epoch 37/50\n",
            "\u001b[1m46/46\u001b[0m \u001b[32m━━━━━━━━━━━━━━━━━━━━\u001b[0m\u001b[37m\u001b[0m \u001b[1m35s\u001b[0m 423ms/step - accuracy: 0.7800 - loss: 0.6986 - val_accuracy: 0.5753 - val_loss: 1.7742\n",
            "Epoch 38/50\n",
            "\u001b[1m46/46\u001b[0m \u001b[32m━━━━━━━━━━━━━━━━━━━━\u001b[0m\u001b[37m\u001b[0m \u001b[1m20s\u001b[0m 404ms/step - accuracy: 0.7636 - loss: 0.7454 - val_accuracy: 0.6515 - val_loss: 1.4202\n",
            "Epoch 39/50\n",
            "\u001b[1m46/46\u001b[0m \u001b[32m━━━━━━━━━━━━━━━━━━━━\u001b[0m\u001b[37m\u001b[0m \u001b[1m19s\u001b[0m 403ms/step - accuracy: 0.7776 - loss: 0.6970 - val_accuracy: 0.6990 - val_loss: 1.2303\n",
            "Epoch 40/50\n",
            "\u001b[1m46/46\u001b[0m \u001b[32m━━━━━━━━━━━━━━━━━━━━\u001b[0m\u001b[37m\u001b[0m \u001b[1m27s\u001b[0m 538ms/step - accuracy: 0.7721 - loss: 0.7280 - val_accuracy: 0.5856 - val_loss: 1.6718\n",
            "Epoch 41/50\n",
            "\u001b[1m46/46\u001b[0m \u001b[32m━━━━━━━━━━━━━━━━━━━━\u001b[0m\u001b[37m\u001b[0m \u001b[1m37s\u001b[0m 442ms/step - accuracy: 0.7640 - loss: 0.7436 - val_accuracy: 0.6577 - val_loss: 1.3790\n",
            "Epoch 42/50\n",
            "\u001b[1m46/46\u001b[0m \u001b[32m━━━━━━━━━━━━━━━━━━━━\u001b[0m\u001b[37m\u001b[0m \u001b[1m19s\u001b[0m 400ms/step - accuracy: 0.7934 - loss: 0.6343 - val_accuracy: 0.6247 - val_loss: 1.5890\n",
            "Epoch 43/50\n",
            "\u001b[1m46/46\u001b[0m \u001b[32m━━━━━━━━━━━━━━━━━━━━\u001b[0m\u001b[37m\u001b[0m \u001b[1m22s\u001b[0m 428ms/step - accuracy: 0.7800 - loss: 0.7125 - val_accuracy: 0.4990 - val_loss: 2.1487\n",
            "Epoch 44/50\n",
            "\u001b[1m46/46\u001b[0m \u001b[32m━━━━━━━━━━━━━━━━━━━━\u001b[0m\u001b[37m\u001b[0m \u001b[1m25s\u001b[0m 538ms/step - accuracy: 0.7458 - loss: 0.8308 - val_accuracy: 0.6103 - val_loss: 1.5790\n",
            "Epoch 45/50\n",
            "\u001b[1m46/46\u001b[0m \u001b[32m━━━━━━━━━━━━━━━━━━━━\u001b[0m\u001b[37m\u001b[0m \u001b[1m19s\u001b[0m 406ms/step - accuracy: 0.7581 - loss: 0.7507 - val_accuracy: 0.6268 - val_loss: 1.5213\n",
            "Epoch 46/50\n",
            "\u001b[1m46/46\u001b[0m \u001b[32m━━━━━━━━━━━━━━━━━━━━\u001b[0m\u001b[37m\u001b[0m \u001b[1m26s\u001b[0m 537ms/step - accuracy: 0.7522 - loss: 0.7364 - val_accuracy: 0.4948 - val_loss: 2.1702\n",
            "Epoch 47/50\n",
            "\u001b[1m46/46\u001b[0m \u001b[32m━━━━━━━━━━━━━━━━━━━━\u001b[0m\u001b[37m\u001b[0m \u001b[1m36s\u001b[0m 432ms/step - accuracy: 0.7802 - loss: 0.7205 - val_accuracy: 0.5340 - val_loss: 2.1219\n",
            "Epoch 48/50\n",
            "\u001b[1m46/46\u001b[0m \u001b[32m━━━━━━━━━━━━━━━━━━━━\u001b[0m\u001b[37m\u001b[0m \u001b[1m20s\u001b[0m 429ms/step - accuracy: 0.7578 - loss: 0.7676 - val_accuracy: 0.5649 - val_loss: 1.8061\n",
            "Epoch 49/50\n",
            "\u001b[1m46/46\u001b[0m \u001b[32m━━━━━━━━━━━━━━━━━━━━\u001b[0m\u001b[37m\u001b[0m \u001b[1m18s\u001b[0m 396ms/step - accuracy: 0.7805 - loss: 0.6993 - val_accuracy: 0.5814 - val_loss: 1.8760\n",
            "Epoch 50/50\n",
            "\u001b[1m46/46\u001b[0m \u001b[32m━━━━━━━━━━━━━━━━━━━━\u001b[0m\u001b[37m\u001b[0m \u001b[1m20s\u001b[0m 434ms/step - accuracy: 0.7944 - loss: 0.6322 - val_accuracy: 0.5423 - val_loss: 2.0854\n"
          ]
        }
      ]
    },
    {
      "cell_type": "code",
      "source": [
        "model.summary()"
      ],
      "metadata": {
        "colab": {
          "base_uri": "https://localhost:8080/",
          "height": 347
        },
        "id": "iwore_nPs_Zq",
        "outputId": "5966ad13-7257-4b7a-d0ae-f24341120ef6"
      },
      "execution_count": 11,
      "outputs": [
        {
          "output_type": "display_data",
          "data": {
            "text/plain": [
              "\u001b[1mModel: \"sequential_1\"\u001b[0m\n"
            ],
            "text/html": [
              "<pre style=\"white-space:pre;overflow-x:auto;line-height:normal;font-family:Menlo,'DejaVu Sans Mono',consolas,'Courier New',monospace\"><span style=\"font-weight: bold\">Model: \"sequential_1\"</span>\n",
              "</pre>\n"
            ]
          },
          "metadata": {}
        },
        {
          "output_type": "display_data",
          "data": {
            "text/plain": [
              "┏━━━━━━━━━━━━━━━━━━━━━━━━━━━━━━━━━━━━━━┳━━━━━━━━━━━━━━━━━━━━━━━━━━━━━┳━━━━━━━━━━━━━━━━━┓\n",
              "┃\u001b[1m \u001b[0m\u001b[1mLayer (type)                        \u001b[0m\u001b[1m \u001b[0m┃\u001b[1m \u001b[0m\u001b[1mOutput Shape               \u001b[0m\u001b[1m \u001b[0m┃\u001b[1m \u001b[0m\u001b[1m        Param #\u001b[0m\u001b[1m \u001b[0m┃\n",
              "┡━━━━━━━━━━━━━━━━━━━━━━━━━━━━━━━━━━━━━━╇━━━━━━━━━━━━━━━━━━━━━━━━━━━━━╇━━━━━━━━━━━━━━━━━┩\n",
              "│ sequential (\u001b[38;5;33mSequential\u001b[0m)              │ (\u001b[38;5;45mNone\u001b[0m, \u001b[38;5;34m299\u001b[0m, \u001b[38;5;34m299\u001b[0m, \u001b[38;5;34m3\u001b[0m)         │               \u001b[38;5;34m0\u001b[0m │\n",
              "├──────────────────────────────────────┼─────────────────────────────┼─────────────────┤\n",
              "│ conv2d (\u001b[38;5;33mConv2D\u001b[0m)                      │ (\u001b[38;5;45mNone\u001b[0m, \u001b[38;5;34m297\u001b[0m, \u001b[38;5;34m297\u001b[0m, \u001b[38;5;34m64\u001b[0m)        │           \u001b[38;5;34m1,792\u001b[0m │\n",
              "├──────────────────────────────────────┼─────────────────────────────┼─────────────────┤\n",
              "│ max_pooling2d (\u001b[38;5;33mMaxPooling2D\u001b[0m)         │ (\u001b[38;5;45mNone\u001b[0m, \u001b[38;5;34m148\u001b[0m, \u001b[38;5;34m148\u001b[0m, \u001b[38;5;34m64\u001b[0m)        │               \u001b[38;5;34m0\u001b[0m │\n",
              "├──────────────────────────────────────┼─────────────────────────────┼─────────────────┤\n",
              "│ flatten (\u001b[38;5;33mFlatten\u001b[0m)                    │ (\u001b[38;5;45mNone\u001b[0m, \u001b[38;5;34m1401856\u001b[0m)             │               \u001b[38;5;34m0\u001b[0m │\n",
              "├──────────────────────────────────────┼─────────────────────────────┼─────────────────┤\n",
              "│ dense (\u001b[38;5;33mDense\u001b[0m)                        │ (\u001b[38;5;45mNone\u001b[0m, \u001b[38;5;34m128\u001b[0m)                 │     \u001b[38;5;34m179,437,696\u001b[0m │\n",
              "├──────────────────────────────────────┼─────────────────────────────┼─────────────────┤\n",
              "│ dense_1 (\u001b[38;5;33mDense\u001b[0m)                      │ (\u001b[38;5;45mNone\u001b[0m, \u001b[38;5;34m9\u001b[0m)                   │           \u001b[38;5;34m1,161\u001b[0m │\n",
              "└──────────────────────────────────────┴─────────────────────────────┴─────────────────┘\n"
            ],
            "text/html": [
              "<pre style=\"white-space:pre;overflow-x:auto;line-height:normal;font-family:Menlo,'DejaVu Sans Mono',consolas,'Courier New',monospace\">┏━━━━━━━━━━━━━━━━━━━━━━━━━━━━━━━━━━━━━━┳━━━━━━━━━━━━━━━━━━━━━━━━━━━━━┳━━━━━━━━━━━━━━━━━┓\n",
              "┃<span style=\"font-weight: bold\"> Layer (type)                         </span>┃<span style=\"font-weight: bold\"> Output Shape                </span>┃<span style=\"font-weight: bold\">         Param # </span>┃\n",
              "┡━━━━━━━━━━━━━━━━━━━━━━━━━━━━━━━━━━━━━━╇━━━━━━━━━━━━━━━━━━━━━━━━━━━━━╇━━━━━━━━━━━━━━━━━┩\n",
              "│ sequential (<span style=\"color: #0087ff; text-decoration-color: #0087ff\">Sequential</span>)              │ (<span style=\"color: #00d7ff; text-decoration-color: #00d7ff\">None</span>, <span style=\"color: #00af00; text-decoration-color: #00af00\">299</span>, <span style=\"color: #00af00; text-decoration-color: #00af00\">299</span>, <span style=\"color: #00af00; text-decoration-color: #00af00\">3</span>)         │               <span style=\"color: #00af00; text-decoration-color: #00af00\">0</span> │\n",
              "├──────────────────────────────────────┼─────────────────────────────┼─────────────────┤\n",
              "│ conv2d (<span style=\"color: #0087ff; text-decoration-color: #0087ff\">Conv2D</span>)                      │ (<span style=\"color: #00d7ff; text-decoration-color: #00d7ff\">None</span>, <span style=\"color: #00af00; text-decoration-color: #00af00\">297</span>, <span style=\"color: #00af00; text-decoration-color: #00af00\">297</span>, <span style=\"color: #00af00; text-decoration-color: #00af00\">64</span>)        │           <span style=\"color: #00af00; text-decoration-color: #00af00\">1,792</span> │\n",
              "├──────────────────────────────────────┼─────────────────────────────┼─────────────────┤\n",
              "│ max_pooling2d (<span style=\"color: #0087ff; text-decoration-color: #0087ff\">MaxPooling2D</span>)         │ (<span style=\"color: #00d7ff; text-decoration-color: #00d7ff\">None</span>, <span style=\"color: #00af00; text-decoration-color: #00af00\">148</span>, <span style=\"color: #00af00; text-decoration-color: #00af00\">148</span>, <span style=\"color: #00af00; text-decoration-color: #00af00\">64</span>)        │               <span style=\"color: #00af00; text-decoration-color: #00af00\">0</span> │\n",
              "├──────────────────────────────────────┼─────────────────────────────┼─────────────────┤\n",
              "│ flatten (<span style=\"color: #0087ff; text-decoration-color: #0087ff\">Flatten</span>)                    │ (<span style=\"color: #00d7ff; text-decoration-color: #00d7ff\">None</span>, <span style=\"color: #00af00; text-decoration-color: #00af00\">1401856</span>)             │               <span style=\"color: #00af00; text-decoration-color: #00af00\">0</span> │\n",
              "├──────────────────────────────────────┼─────────────────────────────┼─────────────────┤\n",
              "│ dense (<span style=\"color: #0087ff; text-decoration-color: #0087ff\">Dense</span>)                        │ (<span style=\"color: #00d7ff; text-decoration-color: #00d7ff\">None</span>, <span style=\"color: #00af00; text-decoration-color: #00af00\">128</span>)                 │     <span style=\"color: #00af00; text-decoration-color: #00af00\">179,437,696</span> │\n",
              "├──────────────────────────────────────┼─────────────────────────────┼─────────────────┤\n",
              "│ dense_1 (<span style=\"color: #0087ff; text-decoration-color: #0087ff\">Dense</span>)                      │ (<span style=\"color: #00d7ff; text-decoration-color: #00d7ff\">None</span>, <span style=\"color: #00af00; text-decoration-color: #00af00\">9</span>)                   │           <span style=\"color: #00af00; text-decoration-color: #00af00\">1,161</span> │\n",
              "└──────────────────────────────────────┴─────────────────────────────┴─────────────────┘\n",
              "</pre>\n"
            ]
          },
          "metadata": {}
        },
        {
          "output_type": "display_data",
          "data": {
            "text/plain": [
              "\u001b[1m Total params: \u001b[0m\u001b[38;5;34m538,321,949\u001b[0m (2.01 GB)\n"
            ],
            "text/html": [
              "<pre style=\"white-space:pre;overflow-x:auto;line-height:normal;font-family:Menlo,'DejaVu Sans Mono',consolas,'Courier New',monospace\"><span style=\"font-weight: bold\"> Total params: </span><span style=\"color: #00af00; text-decoration-color: #00af00\">538,321,949</span> (2.01 GB)\n",
              "</pre>\n"
            ]
          },
          "metadata": {}
        },
        {
          "output_type": "display_data",
          "data": {
            "text/plain": [
              "\u001b[1m Trainable params: \u001b[0m\u001b[38;5;34m179,440,649\u001b[0m (684.51 MB)\n"
            ],
            "text/html": [
              "<pre style=\"white-space:pre;overflow-x:auto;line-height:normal;font-family:Menlo,'DejaVu Sans Mono',consolas,'Courier New',monospace\"><span style=\"font-weight: bold\"> Trainable params: </span><span style=\"color: #00af00; text-decoration-color: #00af00\">179,440,649</span> (684.51 MB)\n",
              "</pre>\n"
            ]
          },
          "metadata": {}
        },
        {
          "output_type": "display_data",
          "data": {
            "text/plain": [
              "\u001b[1m Non-trainable params: \u001b[0m\u001b[38;5;34m0\u001b[0m (0.00 B)\n"
            ],
            "text/html": [
              "<pre style=\"white-space:pre;overflow-x:auto;line-height:normal;font-family:Menlo,'DejaVu Sans Mono',consolas,'Courier New',monospace\"><span style=\"font-weight: bold\"> Non-trainable params: </span><span style=\"color: #00af00; text-decoration-color: #00af00\">0</span> (0.00 B)\n",
              "</pre>\n"
            ]
          },
          "metadata": {}
        },
        {
          "output_type": "display_data",
          "data": {
            "text/plain": [
              "\u001b[1m Optimizer params: \u001b[0m\u001b[38;5;34m358,881,300\u001b[0m (1.34 GB)\n"
            ],
            "text/html": [
              "<pre style=\"white-space:pre;overflow-x:auto;line-height:normal;font-family:Menlo,'DejaVu Sans Mono',consolas,'Courier New',monospace\"><span style=\"font-weight: bold\"> Optimizer params: </span><span style=\"color: #00af00; text-decoration-color: #00af00\">358,881,300</span> (1.34 GB)\n",
              "</pre>\n"
            ]
          },
          "metadata": {}
        }
      ]
    },
    {
      "cell_type": "code",
      "source": [
        "# Visualize the Results\n",
        "import matplotlib.pyplot as plt\n",
        "\n",
        "plt.figure()\n",
        "plt.xlabel('Epoch')\n",
        "plt.ylabel('Loss')\n",
        "plt.plot(history.history['loss'], label='Train loss')\n",
        "plt.plot(history.history['val_loss'], label='Validation loss')\n",
        "plt.legend()\n",
        "plt.show()\n",
        "\n",
        "\n",
        "plt.figure()\n",
        "plt.xlabel('Epoch')\n",
        "plt.ylabel('Accuracy')\n",
        "plt.plot(history.history['accuracy'], label='Train Accuracy')\n",
        "plt.plot(history.history['val_accuracy'], label='Validation Accuracy')\n",
        "plt.ylim(0, 1.0)\n",
        "plt.legend()\n",
        "plt.show()"
      ],
      "metadata": {
        "colab": {
          "base_uri": "https://localhost:8080/",
          "height": 887
        },
        "id": "Jt1HcH5WtGDF",
        "outputId": "e2817e5a-624c-4482-a0f3-84e4ea69af88"
      },
      "execution_count": 14,
      "outputs": [
        {
          "output_type": "display_data",
          "data": {
            "text/plain": [
              "<Figure size 640x480 with 1 Axes>"
            ],
            "image/png": "[encoded data removed]"
          },
          "metadata": {}
        },
        {
          "output_type": "display_data",
          "data": {
            "text/plain": [
              "<Figure size 640x480 with 1 Axes>"
            ],
            "image/png": "[encoded data removed]"
          },
          "metadata": {}
        }
      ]
    },
    {
      "cell_type": "code",
      "source": [
        "# 가장 정확도가 높은 모델로 test data predict하고 Visualize (confusion matrix)\n",
        "# test data image visualize와 함께 predict label과 actual label 표기\n",
        "\n",
        "# Test data predication 을 통해 최종 accuracy 확인\n",
        "\n",
        "import numpy as np\n",
        "\n",
        "# test_dir path\n",
        "test_dir = './dataset/test'\n",
        "\n",
        "test_dataset = image_dataset_from_directory(\n",
        "    directory = test_dir,\n",
        "    image_size = (299, 299),\n",
        "    label_mode='categorical',\n",
        "    shuffle=False,\n",
        "    batch_size=32\n",
        ")\n",
        "\n",
        "\n",
        "all_labels = []\n",
        "for _, labels in test_dataset:\n",
        "    all_labels.append(np.argmax(labels.numpy(), axis=1))\n",
        "all_labels = np.concatenate(all_labels, axis=0)\n",
        "\n",
        "y_pred = np.argmax(model.predict(test_dataset), axis=1)\n",
        "\n",
        "#for label in y_pred:\n",
        "#    print(categories[label])\n",
        "\n",
        "from sklearn.metrics import accuracy_score\n",
        "accuracy = accuracy_score(all_labels, y_pred)\n",
        "print(accuracy)"
      ],
      "metadata": {
        "colab": {
          "base_uri": "https://localhost:8080/"
        },
        "id": "9lwdRJpztLi6",
        "outputId": "997ff41b-170a-420c-d78f-9a0c9d18a3ae"
      },
      "execution_count": 18,
      "outputs": [
        {
          "output_type": "stream",
          "name": "stdout",
          "text": [
            "Found 485 files belonging to 9 classes.\n",
            "\u001b[1m16/16\u001b[0m \u001b[32m━━━━━━━━━━━━━━━━━━━━\u001b[0m\u001b[37m\u001b[0m \u001b[1m6s\u001b[0m 381ms/step\n",
            "0.5422680412371134\n"
          ]
        }
      ]
    }
  ]
}